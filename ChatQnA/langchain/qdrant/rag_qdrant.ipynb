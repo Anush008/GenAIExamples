{
 "cells": [
  {
   "cell_type": "markdown",
   "id": "681a5d1e",
   "metadata": {},
   "source": [
    "## Performing a RAG query"
   ]
  },
  {
   "cell_type": "markdown",
   "id": "a82eff1d",
   "metadata": {},
   "source": [
    "You can either specify a model and HuggingFace token"
   ]
  },
  {
   "cell_type": "code",
   "execution_count": 5,
   "id": "c040b08c",
   "metadata": {},
   "outputs": [
    {
     "name": "stdout",
     "output_type": "stream",
     "text": [
      "env: HUGGINGFACEHUB_API_TOKEN=\"hf_*******************\"\n"
     ]
    }
   ],
   "source": [
    "%env HUGGINGFACEHUB_API_TOKEN=\"hf_*******************\"\n",
    "%env HUGGINGFACE_MODEL=\"mistralai/Mistral-7B-Instruct-v0.2\""
   ]
  },
  {
   "cell_type": "markdown",
   "id": "95a71574",
   "metadata": {},
   "source": [
    "OR You can specify a custom value for `HUGGINGFACE_CUSTOM_ENDPOINT`."
   ]
  },
  {
   "cell_type": "markdown",
   "id": "ed0497ad",
   "metadata": {},
   "source": [
    "To load the data into Qdrant, run the `ingest.py` script."
   ]
  },
  {
   "cell_type": "code",
   "execution_count": null,
   "id": "d774be2a",
   "metadata": {},
   "outputs": [],
   "source": [
    "from rag_qdrant import chain\n",
    "\n",
    "print(chain.rag_chain.invoke(\"What is Task Decomposition?\"))"
   ]
  }
 ],
 "metadata": {
  "kernelspec": {
   "display_name": "Python 3 (ipykernel)",
   "language": "python",
   "name": "python3"
  },
  "language_info": {
   "codemirror_mode": {
    "name": "ipython",
    "version": 3
   },
   "file_extension": ".py",
   "mimetype": "text/x-python",
   "name": "python",
   "nbconvert_exporter": "python",
   "pygments_lexer": "ipython3",
   "version": "3.10.13"
  }
 },
 "nbformat": 4,
 "nbformat_minor": 5
}
